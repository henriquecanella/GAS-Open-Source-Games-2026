{
  "cells": [
    {
      "cell_type": "code",
      "execution_count": null,
      "metadata": {
        "id": "bAX3LZZtDjBH"
      },
      "outputs": [],
      "source": [
        "import pandas as pd"
      ]
    },
    {
      "cell_type": "code",
      "execution_count": null,
      "metadata": {
        "colab": {
          "base_uri": "https://localhost:8080/"
        },
        "id": "N4HgoLxYDvTm",
        "outputId": "e20682ef-4aba-4571-a99d-977105cb62fb"
      },
      "outputs": [
        {
          "name": "stdout",
          "output_type": "stream",
          "text": [
            "<class 'pandas.core.frame.DataFrame'>\n",
            "RangeIndex: 491 entries, 0 to 490\n",
            "Data columns (total 11 columns):\n",
            " #   Column                                 Non-Null Count  Dtype \n",
            "---  ------                                 --------------  ----- \n",
            " 0   Project_tests                          487 non-null    object\n",
            " 1   tests_hasSomeTestFolder?               487 non-null    object\n",
            " 2   tests_Test Folders                     53 non-null     object\n",
            " 3   tests_hasPotentialTestFiles?           487 non-null    object\n",
            " 4   tests_PotentialTestFiles               106 non-null    object\n",
            " 5   tests_hasTestFiles                     36 non-null     object\n",
            " 6   docs_MentionsTests?                    491 non-null    object\n",
            " 7   llm_testing_Bug Related Activity       491 non-null    object\n",
            " 8   llm_testing_Testing Practices          491 non-null    object\n",
            " 9   llm_testing_Troubleshooting Practices  491 non-null    object\n",
            " 10  llm_testing_Contribution Practices     491 non-null    object\n",
            "dtypes: object(11)\n",
            "memory usage: 42.3+ KB\n",
            "None\n"
          ]
        }
      ],
      "source": [
        "df = pd.read_csv('data/Dataset_Final_GAS.csv')\n",
        "\n",
        "# Only columns that contain 'test' in their name (case-insensitive)\n",
        "test_cols = [col for col in df.columns if 'test' in col.lower()]\n",
        "df_test = df[test_cols]\n",
        "\n",
        "# Display the filtered columns\n",
        "print(df_test.info())"
      ]
    },
    {
      "cell_type": "code",
      "execution_count": null,
      "metadata": {
        "colab": {
          "base_uri": "https://localhost:8080/"
        },
        "id": "tDCOgxljx5p-",
        "outputId": "34c6dc48-3ab3-448e-b7c9-286b1e5ce929"
      },
      "outputs": [
        {
          "name": "stdout",
          "output_type": "stream",
          "text": [
            "Total projects: 491\n",
            "Projects with automated tests: 36 (7.33%)\n"
          ]
        }
      ],
      "source": [
        "# Convert to boolean: NaN -> False\n",
        "df[\"tests_hasTestFiles\"] = df[\"tests_hasTestFiles\"].fillna(False)\n",
        "\n",
        "# Normalize truthy values\n",
        "truthy = {\"true\", \"1\", \"yes\", \"y\", \"t\"}\n",
        "df[\"tests_hasTestFiles\"] = df[\"tests_hasTestFiles\"].astype(str).str.lower().isin(truthy)\n",
        "\n",
        "# Compute results\n",
        "total = len(df)\n",
        "with_tests = df[\"tests_hasTestFiles\"].sum()\n",
        "pct_with_tests = (with_tests / total) * 100\n",
        "\n",
        "print(f\"Total projects: {total}\")\n",
        "print(f\"Projects with automated tests: {with_tests} ({pct_with_tests:.2f}%)\")"
      ]
    },
    {
      "cell_type": "markdown",
      "metadata": {
        "id": "S1mqb_ff0Zae"
      },
      "source": [
        "As for bug-related activity:"
      ]
    },
    {
      "cell_type": "code",
      "execution_count": null,
      "metadata": {
        "colab": {
          "base_uri": "https://localhost:8080/"
        },
        "id": "Co6Ep0g30euC",
        "outputId": "ff560634-14e3-4875-9f03-c77707d8688f"
      },
      "outputs": [
        {
          "name": "stdout",
          "output_type": "stream",
          "text": [
            "Total projects: 491\n",
            "Projects with information on bug-related activity: 69 (14.05%)\n"
          ]
        }
      ],
      "source": [
        "# Ensure the column exists\n",
        "col_name = \"llm_testing_Bug Related Activity\"\n",
        "\n",
        "# Convert NaN → False\n",
        "df[col_name] = df[col_name].fillna(False)\n",
        "\n",
        "# Normalize possible truthy values\n",
        "truthy = {\"true\", \"1\", \"yes\", \"y\", \"t\"}\n",
        "df[col_name] = df[col_name].astype(str).str.lower().isin(truthy)\n",
        "\n",
        "# Compute summary\n",
        "total = len(df)\n",
        "with_activity = df[col_name].sum()\n",
        "pct_with_activity = (with_activity / total) * 100\n",
        "\n",
        "print(f\"Total projects: {total}\")\n",
        "print(f\"Projects with information on bug-related activity: {with_activity} ({pct_with_activity:.2f}%)\")\n"
      ]
    },
    {
      "cell_type": "markdown",
      "metadata": {
        "id": "3naJpJME1NkZ"
      },
      "source": [
        "Inspecting how many projects include information on testing practices:"
      ]
    },
    {
      "cell_type": "code",
      "execution_count": null,
      "metadata": {
        "colab": {
          "base_uri": "https://localhost:8080/"
        },
        "id": "YeqHkDNK1S99",
        "outputId": "d4b5d23b-7d10-47a1-a984-0091f4e58e98"
      },
      "outputs": [
        {
          "name": "stdout",
          "output_type": "stream",
          "text": [
            "Total projects: 491\n",
            "Projects with information on testing practices: 40 (8.15%)\n"
          ]
        }
      ],
      "source": [
        "# Ensure the column exists\n",
        "col_name = \"llm_testing_Testing Practices\"\n",
        "\n",
        "# Convert NaN → False\n",
        "df[col_name] = df[col_name].fillna(False)\n",
        "\n",
        "# Normalize possible truthy values\n",
        "truthy = {\"true\", \"1\", \"yes\", \"y\", \"t\"}\n",
        "df[col_name] = df[col_name].astype(str).str.lower().isin(truthy)\n",
        "\n",
        "# Compute summary\n",
        "total = len(df)\n",
        "with_activity = df[col_name].sum()\n",
        "pct_with_activity = (with_activity / total) * 100\n",
        "\n",
        "print(f\"Total projects: {total}\")\n",
        "print(f\"Projects with information on testing practices: {with_activity} ({pct_with_activity:.2f}%)\")\n"
      ]
    },
    {
      "cell_type": "markdown",
      "metadata": {
        "id": "EJcAX5Gv0zmd"
      },
      "source": [
        "Looking at information on troubleshooting practices:"
      ]
    },
    {
      "cell_type": "code",
      "execution_count": null,
      "metadata": {
        "colab": {
          "base_uri": "https://localhost:8080/"
        },
        "id": "ey8g19Dz099N",
        "outputId": "941d6e40-55c9-43b5-b4ae-5b85a4461992"
      },
      "outputs": [
        {
          "name": "stdout",
          "output_type": "stream",
          "text": [
            "Total projects: 491\n",
            "Projects with information on troubleshooting practices: 11 (2.24%)\n"
          ]
        }
      ],
      "source": [
        "# Ensure the column exists\n",
        "col_name = \"llm_testing_Troubleshooting Practices\"\n",
        "\n",
        "# Convert NaN → False\n",
        "df[col_name] = df[col_name].fillna(False)\n",
        "\n",
        "# Normalize possible truthy values\n",
        "truthy = {\"true\", \"1\", \"yes\", \"y\", \"t\"}\n",
        "df[col_name] = df[col_name].astype(str).str.lower().isin(truthy)\n",
        "\n",
        "# Compute summary\n",
        "total = len(df)\n",
        "with_activity = df[col_name].sum()\n",
        "pct_with_activity = (with_activity / total) * 100\n",
        "\n",
        "print(f\"Total projects: {total}\")\n",
        "print(f\"Projects with information on troubleshooting practices: {with_activity} ({pct_with_activity:.2f}%)\")\n"
      ]
    },
    {
      "cell_type": "markdown",
      "metadata": {
        "id": "DZi4QKIm1JjI"
      },
      "source": [
        "How many projects outline ways (e.g., guidelines) for contributors to engage in testing-related tasks?"
      ]
    },
    {
      "cell_type": "code",
      "execution_count": null,
      "metadata": {
        "colab": {
          "base_uri": "https://localhost:8080/"
        },
        "id": "JxDtYl962DWx",
        "outputId": "623813f6-a941-4c0a-a812-232e109ed885"
      },
      "outputs": [
        {
          "name": "stdout",
          "output_type": "stream",
          "text": [
            "Total projects: 491\n",
            "Projects with information on how to engage/participate in testing-related tasks: 21 (4.28%)\n"
          ]
        }
      ],
      "source": [
        "# Ensure the column exists\n",
        "col_name = \"llm_testing_Contribution Practices\"\n",
        "\n",
        "# Convert NaN → False\n",
        "df[col_name] = df[col_name].fillna(False)\n",
        "\n",
        "# Normalize possible truthy values\n",
        "truthy = {\"true\", \"1\", \"yes\", \"y\", \"t\"}\n",
        "df[col_name] = df[col_name].astype(str).str.lower().isin(truthy)\n",
        "\n",
        "# Compute summary\n",
        "total = len(df)\n",
        "with_activity = df[col_name].sum()\n",
        "pct_with_activity = (with_activity / total) * 100\n",
        "\n",
        "print(f\"Total projects: {total}\")\n",
        "print(f\"Projects with information on how to engage/participate in testing-related tasks: {with_activity} ({pct_with_activity:.2f}%)\")\n"
      ]
    },
    {
      "cell_type": "markdown",
      "metadata": {
        "id": "S40eDTZZCRwF"
      },
      "source": [
        "Next, we explore whether projects with tests are more active.\n"
      ]
    }
  ],
  "metadata": {
    "colab": {
      "provenance": []
    },
    "kernelspec": {
      "display_name": "Python 3",
      "name": "python3"
    },
    "language_info": {
      "name": "python"
    }
  },
  "nbformat": 4,
  "nbformat_minor": 0
}
